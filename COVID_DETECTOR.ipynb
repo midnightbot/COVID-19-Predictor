{
  "nbformat": 4,
  "nbformat_minor": 0,
  "metadata": {
    "colab": {
      "name": "COVID-DETECTOR.ipynb",
      "provenance": []
    },
    "kernelspec": {
      "name": "python3",
      "display_name": "Python 3"
    },
    "language_info": {
      "name": "python"
    }
  },
  "cells": [
    {
      "cell_type": "code",
      "metadata": {
        "colab": {
          "base_uri": "https://localhost:8080/"
        },
        "id": "OOQPppo6tX9Y",
        "outputId": "80a0b620-ca6e-426e-f489-50cf80cd0024"
      },
      "source": [
        "!wget https://www.dropbox.com/s/n5gw05uk4cgbh9g/MyDataset.zip?dl=0"
      ],
      "execution_count": 2,
      "outputs": [
        {
          "output_type": "stream",
          "text": [
            "--2021-07-18 17:45:13--  https://www.dropbox.com/s/n5gw05uk4cgbh9g/MyDataset.zip?dl=0\n",
            "Resolving www.dropbox.com (www.dropbox.com)... 162.125.3.18, 2620:100:601b:18::a27d:812\n",
            "Connecting to www.dropbox.com (www.dropbox.com)|162.125.3.18|:443... connected.\n",
            "HTTP request sent, awaiting response... 301 Moved Permanently\n",
            "Location: /s/raw/n5gw05uk4cgbh9g/MyDataset.zip [following]\n",
            "--2021-07-18 17:45:13--  https://www.dropbox.com/s/raw/n5gw05uk4cgbh9g/MyDataset.zip\n",
            "Reusing existing connection to www.dropbox.com:443.\n",
            "HTTP request sent, awaiting response... 302 Found\n",
            "Location: https://uce1fc2281f17e596d7ac60964a8.dl.dropboxusercontent.com/cd/0/inline/BSi3DrRQdyyVAFAuAuDL1w4VsPMzADokVhyfoSDY7doHZ4dSbUT01yamLQAbagz5bMJvkGEW5UU5A81IwcjB7TE7bDNrFMaNHWF16196cioNAV8ENXRiFHAbpS2MhTGOPGAU99vvDNGKhuPjO2lf6NHM/file# [following]\n",
            "--2021-07-18 17:45:14--  https://uce1fc2281f17e596d7ac60964a8.dl.dropboxusercontent.com/cd/0/inline/BSi3DrRQdyyVAFAuAuDL1w4VsPMzADokVhyfoSDY7doHZ4dSbUT01yamLQAbagz5bMJvkGEW5UU5A81IwcjB7TE7bDNrFMaNHWF16196cioNAV8ENXRiFHAbpS2MhTGOPGAU99vvDNGKhuPjO2lf6NHM/file\n",
            "Resolving uce1fc2281f17e596d7ac60964a8.dl.dropboxusercontent.com (uce1fc2281f17e596d7ac60964a8.dl.dropboxusercontent.com)... 162.125.3.15, 2620:100:601b:15::a27d:80f\n",
            "Connecting to uce1fc2281f17e596d7ac60964a8.dl.dropboxusercontent.com (uce1fc2281f17e596d7ac60964a8.dl.dropboxusercontent.com)|162.125.3.15|:443... connected.\n",
            "HTTP request sent, awaiting response... 302 Found\n",
            "Location: /cd/0/inline2/BSg5OeV4anp7Y8CzT_ZwbDbWmRg4ko4dehGCwMMlpmhzYUgWfOLjP2bP-0B9XJn_jK6vxgs3VGtcz2JsPVgHE0t97rjPhOZlt0y8SJwUH4nqhEN9kz9W72vGlPOH8a-ADz4kX6xTjH6U0Z9Yko6A_97qP_0NXrIQn0Z6-bOdyekkFwIZr0MbKYiIei5Aa6dyLHXBb6L0agkQxSxbD_rySYVgTUUXbZzqVEEGotUzf1bdwUSUQElECRV73f1E-uXVRdrYlyLnSUtbJl14qxVNukECFtUaVLTpmrAK-qHBnqy1TyymlX9Tseu97sQ-JaaCYW3n_agcUpP47_TuOrra0Dceu-5nuzikkicGzul6VHCYOyG2jCIQpEWd_hIT_7L8vbw/file [following]\n",
            "--2021-07-18 17:45:14--  https://uce1fc2281f17e596d7ac60964a8.dl.dropboxusercontent.com/cd/0/inline2/BSg5OeV4anp7Y8CzT_ZwbDbWmRg4ko4dehGCwMMlpmhzYUgWfOLjP2bP-0B9XJn_jK6vxgs3VGtcz2JsPVgHE0t97rjPhOZlt0y8SJwUH4nqhEN9kz9W72vGlPOH8a-ADz4kX6xTjH6U0Z9Yko6A_97qP_0NXrIQn0Z6-bOdyekkFwIZr0MbKYiIei5Aa6dyLHXBb6L0agkQxSxbD_rySYVgTUUXbZzqVEEGotUzf1bdwUSUQElECRV73f1E-uXVRdrYlyLnSUtbJl14qxVNukECFtUaVLTpmrAK-qHBnqy1TyymlX9Tseu97sQ-JaaCYW3n_agcUpP47_TuOrra0Dceu-5nuzikkicGzul6VHCYOyG2jCIQpEWd_hIT_7L8vbw/file\n",
            "Reusing existing connection to uce1fc2281f17e596d7ac60964a8.dl.dropboxusercontent.com:443.\n",
            "HTTP request sent, awaiting response... 200 OK\n",
            "Length: 191769232 (183M) [application/zip]\n",
            "Saving to: ‘MyDataset.zip?dl=0’\n",
            "\n",
            "MyDataset.zip?dl=0  100%[===================>] 182.88M  77.5MB/s    in 2.4s    \n",
            "\n",
            "2021-07-18 17:45:17 (77.5 MB/s) - ‘MyDataset.zip?dl=0’ saved [191769232/191769232]\n",
            "\n"
          ],
          "name": "stdout"
        }
      ]
    },
    {
      "cell_type": "code",
      "metadata": {
        "colab": {
          "base_uri": "https://localhost:8080/"
        },
        "id": "G8zKpoLfuOd_",
        "outputId": "a770fb2d-963f-42e3-8940-e77b151ab0b0"
      },
      "source": [
        "!unzip covid_19"
      ],
      "execution_count": 3,
      "outputs": [
        {
          "output_type": "stream",
          "text": [
            "Archive:  covid_19.zip\n",
            "   creating: MyDataset/\n",
            "   creating: MyDataset/Train/\n",
            "   creating: MyDataset/Train/Covid/\n",
            "  inflating: MyDataset/Train/Covid/01E392EE-69F9-4E33-BFCE-E5C968654078.jpeg  \n",
            "  inflating: MyDataset/Train/Covid/03BF7561-A9BA-4C3C-B8A0-D3E585F73F3C.jpeg  \n",
            "  inflating: MyDataset/Train/Covid/0a7faa2a.jpg  \n",
            "  inflating: MyDataset/Train/Covid/1-s2.0-S0140673620303706-fx1_lrg.jpg  \n",
            "  inflating: MyDataset/Train/Covid/1-s2.0-S1684118220300608-main.pdf-001.jpg  \n",
            "  inflating: MyDataset/Train/Covid/1-s2.0-S1684118220300608-main.pdf-002.jpg  \n",
            "  inflating: MyDataset/Train/Covid/1-s2.0-S1684118220300682-main.pdf-002-a1.png  \n",
            "  inflating: MyDataset/Train/Covid/1-s2.0-S1684118220300682-main.pdf-002-a2.png  \n",
            "  inflating: MyDataset/Train/Covid/1-s2.0-S1684118220300682-main.pdf-003-b1.png  \n",
            "  inflating: MyDataset/Train/Covid/1-s2.0-S1684118220300682-main.pdf-003-b2.png  \n",
            "  inflating: MyDataset/Train/Covid/1-s2.0-S2214250920300834-gr1_lrg-b.png  \n",
            "  inflating: MyDataset/Train/Covid/1-s2.0-S2214250920300834-gr1_lrg-c.png  \n",
            "  inflating: MyDataset/Train/Covid/1-s2.0-S2387020620301959-gr4_lrg-b.png  \n",
            "  inflating: MyDataset/Train/Covid/1-s2.0-S2387020620301959-gr4_lrg-c.png  \n",
            "  inflating: MyDataset/Train/Covid/1.CXRCTThoraximagesofCOVID-19fromSingapore.pdf-000-fig1a.png  \n",
            "  inflating: MyDataset/Train/Covid/1.CXRCTThoraximagesofCOVID-19fromSingapore.pdf-000-fig1b.png  \n",
            "  inflating: MyDataset/Train/Covid/1.CXRCTThoraximagesofCOVID-19fromSingapore.pdf-001-fig2a.png  \n",
            "  inflating: MyDataset/Train/Covid/1.CXRCTThoraximagesofCOVID-19fromSingapore.pdf-001-fig2b.png  \n",
            "  inflating: MyDataset/Train/Covid/1.CXRCTThoraximagesofCOVID-19fromSingapore.pdf-002-fig3a.png  \n",
            "  inflating: MyDataset/Train/Covid/1.CXRCTThoraximagesofCOVID-19fromSingapore.pdf-002-fig3b.png  \n",
            "  inflating: MyDataset/Train/Covid/1.CXRCTThoraximagesofCOVID-19fromSingapore.pdf-003-fig4a.png  \n",
            "  inflating: MyDataset/Train/Covid/1.CXRCTThoraximagesofCOVID-19fromSingapore.pdf-003-fig4b.png  \n",
            "  inflating: MyDataset/Train/Covid/10.1016-slash-j.anl.2020.04.002-a.png  \n",
            "  inflating: MyDataset/Train/Covid/10.1016-slash-j.crad.2020.04.002-a.png  \n",
            "  inflating: MyDataset/Train/Covid/10.1016-slash-j.crad.2020.04.002-b.png  \n",
            "  inflating: MyDataset/Train/Covid/1052b0fe.jpg  \n",
            "  inflating: MyDataset/Train/Covid/1141cc2b8b9cc394becce5d978b5a7_jumbo.jpeg  \n",
            "  inflating: MyDataset/Train/Covid/12941_2020_358_Fig1_HTML.jpg  \n",
            "  inflating: MyDataset/Train/Covid/1312A392-67A3-4EBF-9319-810CF6DA5EF6.jpeg  \n",
            "  inflating: MyDataset/Train/Covid/14d81f378173b86cc53f21d2d67040_jumbo.jpeg  \n",
            "  inflating: MyDataset/Train/Covid/16660_1_1.jpg  \n",
            "  inflating: MyDataset/Train/Covid/16660_2_1.jpg  \n",
            "  inflating: MyDataset/Train/Covid/16660_3_1.jpg  \n",
            "  inflating: MyDataset/Train/Covid/16660_4_1.jpg  \n",
            "  inflating: MyDataset/Train/Covid/16660_5_1.jpg  \n",
            "  inflating: MyDataset/Train/Covid/16663_1_1.jpg  \n",
            "  inflating: MyDataset/Train/Covid/16664_1_1.jpg  \n",
            "  inflating: MyDataset/Train/Covid/16669_3_1.jpeg  \n",
            "  inflating: MyDataset/Train/Covid/16672_1_1.jpg  \n",
            "  inflating: MyDataset/Train/Covid/16708_1_1.jpg  \n",
            "  inflating: MyDataset/Train/Covid/16708_4_1.jpg  \n",
            "  inflating: MyDataset/Train/Covid/16708_5_1.jpg  \n",
            "  inflating: MyDataset/Train/Covid/16745_5_1.png  \n",
            "  inflating: MyDataset/Train/Covid/16747_1_1.jpg  \n",
            "  inflating: MyDataset/Train/Covid/16865_1_1.jpg  \n",
            "  inflating: MyDataset/Train/Covid/16953_3_1.jpg  \n",
            "  inflating: MyDataset/Train/Covid/16953_4_1.jpg  \n",
            "  inflating: MyDataset/Train/Covid/16953_5_1.jpg  \n",
            "  inflating: MyDataset/Train/Covid/19abe1f3.jpg  \n",
            "  inflating: MyDataset/Train/Covid/1B734A89-A1BF-49A8-A1D3-66FAFA4FAC5D.jpeg  \n",
            "  inflating: MyDataset/Train/Covid/2-chest-filmc.jpg  \n",
            "  inflating: MyDataset/Train/Covid/2168a917.jpg  \n",
            "  inflating: MyDataset/Train/Covid/23E99E2E-447C-46E5-8EB2-D35D12473C39.png  \n",
            "  inflating: MyDataset/Train/Covid/2966893D-5DDF-4B68-9E2B-4979D5956C8E.jpeg  \n",
            "  inflating: MyDataset/Train/Covid/2C26F453-AF3B-4517-BB9E-802CF2179543.jpeg  \n",
            "  inflating: MyDataset/Train/Covid/2cd63b76.jpg  \n",
            "  inflating: MyDataset/Train/Covid/2edb88df42cab5e5fbc18b3965e0bd_jumbo.jpeg  \n",
            "  inflating: MyDataset/Train/Covid/353889E0-A1E8-4F9E-A0B8-F24F36BCFBFB.jpeg  \n",
            "  inflating: MyDataset/Train/Covid/3b46de94.jpg  \n",
            "  inflating: MyDataset/Train/Covid/40779_2020_233_Fig2_HTML-a.png  \n",
            "  inflating: MyDataset/Train/Covid/41182_2020_203_Fig3_HTML.jpg  \n",
            "  inflating: MyDataset/Train/Covid/41182_2020_203_Fig4_HTML.jpg  \n",
            "  inflating: MyDataset/Train/Covid/41182_2020_203_Fig5_HTML.jpg  \n",
            "  inflating: MyDataset/Train/Covid/41379_2020_536_Fig2_HTML-c1.png  \n",
            "  inflating: MyDataset/Train/Covid/41591_2020_819_Fig1_HTML.webp-day10.png  \n",
            "  inflating: MyDataset/Train/Covid/41591_2020_819_Fig1_HTML.webp-day5.png  \n",
            "  inflating: MyDataset/Train/Covid/441c9cdd.jpg  \n",
            "  inflating: MyDataset/Train/Covid/48c4542c.jpg  \n",
            "  inflating: MyDataset/Train/Covid/4d98e1de.jpg  \n",
            "  inflating: MyDataset/Train/Covid/4e43e48d52c9e2d4c6c1fb9bc1544f_jumbo.jpeg  \n",
            "  inflating: MyDataset/Train/Covid/53EC07C9-5CC6-4BE4-9B6F-D7B0D72AAA7E.jpeg  \n",
            "  inflating: MyDataset/Train/Covid/5782ae15.jpg  \n",
            "  inflating: MyDataset/Train/Covid/58cb9263f16e94305c730685358e4e_jumbo.jpeg  \n",
            "  inflating: MyDataset/Train/Covid/5f619d7e.jpg  \n",
            "  inflating: MyDataset/Train/Covid/6b3bdbc31f65230b8cdcc3cef5f8ba8a-40ac-0.jpg  \n",
            "  inflating: MyDataset/Train/Covid/6b44464d-73a7-4cf3-bbb6-ffe7168300e3.annot.original.jpeg  \n",
            "  inflating: MyDataset/Train/Covid/6C94A287-C059-46A0-8600-AFB95F4727B7.jpeg  \n",
            "  inflating: MyDataset/Train/Covid/6CB4EFC6-68FA-4CD5-940C-BEFA8DAFE9A7.jpeg  \n",
            "  inflating: MyDataset/Train/Covid/7-fatal-covid19.jpg  \n",
            "  inflating: MyDataset/Train/Covid/7AF6C1AF-D249-4BD2-8C26-449304105D03.jpeg  \n",
            "  inflating: MyDataset/Train/Covid/7afaaccc.jpg  \n",
            "  inflating: MyDataset/Train/Covid/7C69C012-7479-493F-8722-ABC29C60A2DD.jpeg  \n",
            "  inflating: MyDataset/Train/Covid/80446565-E090-4187-A031-9D3CEAA586C8.jpeg  \n",
            "  inflating: MyDataset/Train/Covid/80b5f00f.jpg  \n",
            "  inflating: MyDataset/Train/Covid/82a78c13.jpg  \n",
            "  inflating: MyDataset/Train/Covid/88de9d8c39e946abd495b37cd07d89e5-2ee6-0.jpg  \n",
            "  inflating: MyDataset/Train/Covid/88de9d8c39e946abd495b37cd07d89e5-6531-0.jpg  \n",
            "  inflating: MyDataset/Train/Covid/8da14fff.jpg  \n",
            "  inflating: MyDataset/Train/Covid/8fc103ca.jpg  \n",
            "  inflating: MyDataset/Train/Covid/8FDE8DBA-CFBD-4B4C-B1A4-6F36A93B7E87.jpeg  \n",
            "  inflating: MyDataset/Train/Covid/90986ce4.jpg  \n",
            "  inflating: MyDataset/Train/Covid/93FE0BB1-022D-4F24-9727-987A07975FFB.jpeg  \n",
            "  inflating: MyDataset/Train/Covid/9C34AF49-E589-44D5-92D3-168B3B04E4A6.jpeg  \n",
            "  inflating: MyDataset/Train/Covid/9fdd3c3032296fd04d2cad5d9070d4_jumbo.jpeg  \n",
            "  inflating: MyDataset/Train/Covid/a2eba651.jpg  \n",
            "  inflating: MyDataset/Train/Covid/a361d7b7.jpg  \n",
            "  inflating: MyDataset/Train/Covid/a8ac1969.jpg  \n",
            "  inflating: MyDataset/Train/Covid/ac4f6e4e.jpg  \n",
            "  inflating: MyDataset/Train/Covid/ae6c954c0039de4b5edee53865ffee43-e6c8-0.jpg  \n",
            "  inflating: MyDataset/Train/Covid/all14238-fig-0001-m-b.jpg  \n",
            "  inflating: MyDataset/Train/Covid/all14238-fig-0001-m-c.jpg  \n",
            "  inflating: MyDataset/Train/Covid/AR-1.jpg  \n",
            "  inflating: MyDataset/Train/Covid/AR-2.jpg  \n",
            "  inflating: MyDataset/Train/Covid/article_river_e4d185c06e3511eaa2321d8ab357a1de-c1mn.png  \n",
            "  inflating: MyDataset/Train/Covid/auntminnie-a-2020_01_28_23_51_6665_2020_01_28_Vietnam_coronavirus.jpeg  \n",
            "  inflating: MyDataset/Train/Covid/auntminnie-b-2020_01_28_23_51_6665_2020_01_28_Vietnam_coronavirus.jpeg  \n",
            "  inflating: MyDataset/Train/Covid/auntminnie-c-2020_01_28_23_51_6665_2020_01_28_Vietnam_coronavirus.jpeg  \n",
            "  inflating: MyDataset/Train/Covid/auntminnie-d-2020_01_28_23_51_6665_2020_01_28_Vietnam_coronavirus.jpeg  \n",
            "  inflating: MyDataset/Train/Covid/b0f1684d1ee90dc09deef015e29dae_jumbo.jpeg  \n",
            "  inflating: MyDataset/Train/Covid/b9673e89.jpg  \n",
            "  inflating: MyDataset/Train/Covid/bb0e626a.jpg  \n",
            "  inflating: MyDataset/Train/Covid/bd10d5e2.jpg  \n",
            "  inflating: MyDataset/Train/Covid/BMJ-37-163-g1.jpg  \n",
            "  inflating: MyDataset/Train/Covid/c0f74558.jpg  \n",
            "  inflating: MyDataset/Train/Covid/c3829ecb.jpg  \n",
            "  inflating: MyDataset/Train/Covid/c601f50d.jpg  \n",
            "  inflating: MyDataset/Train/Covid/CD50BA96-6982-4C80-AE7B-5F67ACDBFA56.jpeg  \n",
            "  inflating: MyDataset/Train/Covid/ciaa199.pdf-001-a.png  \n",
            "  inflating: MyDataset/Train/Covid/ciaa199.pdf-001-b.png  \n",
            "  inflating: MyDataset/Train/Covid/covid-19-caso-70-1-PA.jpg  \n",
            "  inflating: MyDataset/Train/Covid/covid-19-caso-82-1-8.png  \n",
            "  inflating: MyDataset/Train/Covid/covid-19-caso-91-1-12.png  \n",
            "  inflating: MyDataset/Train/Covid/covid-19-caso-94-1-14.png  \n",
            "  inflating: MyDataset/Train/Covid/covid-19-caso-95-1-15.png  \n",
            "  inflating: MyDataset/Train/Covid/covid-19-caso-95-3-14.png  \n",
            "  inflating: MyDataset/Train/Covid/covid-19-infection-exclusive-gastrointestinal-symptoms-pa.png  \n",
            "  inflating: MyDataset/Train/Covid/covid-19-pneumonia-14-PA.png  \n",
            "  inflating: MyDataset/Train/Covid/covid-19-pneumonia-15-PA.jpg  \n",
            "  inflating: MyDataset/Train/Covid/covid-19-pneumonia-20-pa-on-admission.jpg  \n",
            "  inflating: MyDataset/Train/Covid/covid-19-pneumonia-20.jpg  \n",
            "  inflating: MyDataset/Train/Covid/covid-19-pneumonia-22-day1-pa.png  \n",
            "  inflating: MyDataset/Train/Covid/covid-19-pneumonia-22-day2-pa.png  \n",
            "  inflating: MyDataset/Train/Covid/covid-19-pneumonia-28.png  \n",
            "  inflating: MyDataset/Train/Covid/covid-19-pneumonia-30-PA.jpg  \n",
            "  inflating: MyDataset/Train/Covid/covid-19-pneumonia-35-1.jpg  \n",
            "  inflating: MyDataset/Train/Covid/covid-19-pneumonia-35-2.jpg  \n",
            "  inflating: MyDataset/Train/Covid/covid-19-pneumonia-38-pa.jpg  \n",
            "  inflating: MyDataset/Train/Covid/covid-19-pneumonia-44-day-0.jpeg  \n",
            "  inflating: MyDataset/Train/Covid/covid-19-pneumonia-53.jpg  \n",
            "  inflating: MyDataset/Train/Covid/covid-19-pneumonia-7-PA.jpg  \n",
            "  inflating: MyDataset/Train/Covid/covid-19-pneumonia-8.jpg  \n",
            "  inflating: MyDataset/Train/Covid/covid-19-pneumonia-93.png  \n",
            "  inflating: MyDataset/Train/Covid/covid-19-pneumonia-evolution-over-a-week-1-day0-PA.jpg  \n",
            "  inflating: MyDataset/Train/Covid/covid-19-pneumonia-mild.JPG  \n",
            "  inflating: MyDataset/Train/Covid/covid-19-pneumonia-rapidly-progressive-12-hours.jpg  \n",
            "  inflating: MyDataset/Train/Covid/covid-19-pneumonia-rapidly-progressive-3-days.jpg  \n",
            "  inflating: MyDataset/Train/Covid/covid-19-pneumonia-rapidly-progressive-admission.jpg  \n",
            "  inflating: MyDataset/Train/Covid/covid-19-rapidly-progressive-acute-respiratory-distress-syndrome-ards-admission.jpg  \n",
            "  inflating: MyDataset/Train/Covid/covid-19-rapidly-progressive-acute-respiratory-distress-syndrome-ards-day-1.jpg  \n",
            "  inflating: MyDataset/Train/Covid/covid-19-rapidly-progressive-acute-respiratory-distress-syndrome-ards-day-2.jpg  \n",
            "  inflating: MyDataset/Train/Covid/covid-19-rapidly-progressive-acute-respiratory-distress-syndrome-ards-day-3.jpg  \n",
            "  inflating: MyDataset/Train/Covid/d009d61f.jpg  \n",
            "  inflating: MyDataset/Train/Covid/d9d6ca9a.jpg  \n",
            "  inflating: MyDataset/Train/Covid/e1446fe8.jpg  \n",
            "  inflating: MyDataset/Train/Covid/E63574A7-4188-4C8D-8D17-9D67A18A1AFA.jpeg  \n",
            "  inflating: MyDataset/Train/Covid/ec083e35.jpg  \n",
            "   creating: MyDataset/Train/Normal/\n",
            "  inflating: MyDataset/Train/Normal/IM-0115-0001.jpeg  \n",
            "  inflating: MyDataset/Train/Normal/IM-0122-0001.jpeg  \n",
            "  inflating: MyDataset/Train/Normal/IM-0129-0001.jpeg  \n",
            "  inflating: MyDataset/Train/Normal/IM-0135-0001.jpeg  \n",
            "  inflating: MyDataset/Train/Normal/IM-0151-0001.jpeg  \n",
            "  inflating: MyDataset/Train/Normal/IM-0152-0001.jpeg  \n",
            "  inflating: MyDataset/Train/Normal/IM-0166-0001.jpeg  \n",
            "  inflating: MyDataset/Train/Normal/IM-0180-0001.jpeg  \n",
            "  inflating: MyDataset/Train/Normal/IM-0187-0001.jpeg  \n",
            "  inflating: MyDataset/Train/Normal/IM-0191-0001.jpeg  \n",
            "  inflating: MyDataset/Train/Normal/IM-0207-0001.jpeg  \n",
            "  inflating: MyDataset/Train/Normal/IM-0209-0001.jpeg  \n",
            "  inflating: MyDataset/Train/Normal/IM-0213-0001.jpeg  \n",
            "  inflating: MyDataset/Train/Normal/IM-0224-0001.jpeg  \n",
            "  inflating: MyDataset/Train/Normal/IM-0230-0001.jpeg  \n",
            "  inflating: MyDataset/Train/Normal/IM-0248-0001.jpeg  \n",
            "  inflating: MyDataset/Train/Normal/IM-0251-0001.jpeg  \n",
            "  inflating: MyDataset/Train/Normal/IM-0265-0001.jpeg  \n",
            "  inflating: MyDataset/Train/Normal/IM-0268-0001.jpeg  \n",
            "  inflating: MyDataset/Train/Normal/IM-0269-0001.jpeg  \n",
            "  inflating: MyDataset/Train/Normal/IM-0273-0001.jpeg  \n",
            "  inflating: MyDataset/Train/Normal/IM-0276-0001.jpeg  \n",
            "  inflating: MyDataset/Train/Normal/IM-0297-0001.jpeg  \n",
            "  inflating: MyDataset/Train/Normal/IM-0299-0001.jpeg  \n",
            "  inflating: MyDataset/Train/Normal/IM-0309-0001.jpeg  \n",
            "  inflating: MyDataset/Train/Normal/IM-0346-0001.jpeg  \n",
            "  inflating: MyDataset/Train/Normal/IM-0347-0001.jpeg  \n",
            "  inflating: MyDataset/Train/Normal/IM-0356-0001.jpeg  \n",
            "  inflating: MyDataset/Train/Normal/IM-0369-0001.jpeg  \n",
            "  inflating: MyDataset/Train/Normal/IM-0417-0001.jpeg  \n",
            "  inflating: MyDataset/Train/Normal/IM-0419-0001.jpeg  \n",
            "  inflating: MyDataset/Train/Normal/IM-0424-0001.jpeg  \n",
            "  inflating: MyDataset/Train/Normal/IM-0439-0001-0001.jpeg  \n",
            "  inflating: MyDataset/Train/Normal/IM-0440-0001.jpeg  \n",
            "  inflating: MyDataset/Train/Normal/IM-0441-0001.jpeg  \n",
            "  inflating: MyDataset/Train/Normal/IM-0449-0001.jpeg  \n",
            "  inflating: MyDataset/Train/Normal/IM-0452-0001.jpeg  \n",
            "  inflating: MyDataset/Train/Normal/IM-0453-0001-0002.jpeg  \n",
            "  inflating: MyDataset/Train/Normal/IM-0457-0001.jpeg  \n",
            "  inflating: MyDataset/Train/Normal/IM-0463-0001.jpeg  \n",
            "  inflating: MyDataset/Train/Normal/IM-0464-0001.jpeg  \n",
            "  inflating: MyDataset/Train/Normal/IM-0480-0001.jpeg  \n",
            "  inflating: MyDataset/Train/Normal/IM-0483-0001.jpeg  \n",
            "  inflating: MyDataset/Train/Normal/IM-0488-0001.jpeg  \n",
            "  inflating: MyDataset/Train/Normal/IM-0489-0001.jpeg  \n",
            "  inflating: MyDataset/Train/Normal/IM-0497-0001.jpeg  \n",
            "  inflating: MyDataset/Train/Normal/IM-0506-0001.jpeg  \n",
            "  inflating: MyDataset/Train/Normal/IM-0509-0001-0001.jpeg  \n",
            "  inflating: MyDataset/Train/Normal/IM-0509-0001-0002.jpeg  \n",
            "  inflating: MyDataset/Train/Normal/IM-0523-0001-0003.jpeg  \n",
            "  inflating: MyDataset/Train/Normal/IM-0525-0001-0002.jpeg  \n",
            "  inflating: MyDataset/Train/Normal/IM-0531-0001-0001.jpeg  \n",
            "  inflating: MyDataset/Train/Normal/IM-0539-0001-0002.jpeg  \n",
            "  inflating: MyDataset/Train/Normal/IM-0545-0001.jpeg  \n",
            "  inflating: MyDataset/Train/Normal/IM-0553-0001-0002.jpeg  \n",
            "  inflating: MyDataset/Train/Normal/IM-0556-0001.jpeg  \n",
            "  inflating: MyDataset/Train/Normal/IM-0561-0001.jpeg  \n",
            "  inflating: MyDataset/Train/Normal/IM-0590-0001.jpeg  \n",
            "  inflating: MyDataset/Train/Normal/IM-0595-0001.jpeg  \n",
            "  inflating: MyDataset/Train/Normal/IM-0596-0001.jpeg  \n",
            "  inflating: MyDataset/Train/Normal/IM-0606-0001.jpeg  \n",
            "  inflating: MyDataset/Train/Normal/IM-0608-0001-0002.jpeg  \n",
            "  inflating: MyDataset/Train/Normal/IM-0618-0001-0002.jpeg  \n",
            "  inflating: MyDataset/Train/Normal/IM-0623-0001.jpeg  \n",
            "  inflating: MyDataset/Train/Normal/IM-0624-0001.jpeg  \n",
            "  inflating: MyDataset/Train/Normal/IM-0628-0001.jpeg  \n",
            "  inflating: MyDataset/Train/Normal/IM-0632-0001.jpeg  \n",
            "  inflating: MyDataset/Train/Normal/IM-0640-0001-0001.jpeg  \n",
            "  inflating: MyDataset/Train/Normal/IM-0650-0001-0002.jpeg  \n",
            "  inflating: MyDataset/Train/Normal/IM-0664-0001.jpeg  \n",
            "  inflating: MyDataset/Train/Normal/IM-0673-0001.jpeg  \n",
            "  inflating: MyDataset/Train/Normal/IM-0674-0001.jpeg  \n",
            "  inflating: MyDataset/Train/Normal/IM-0683-0001.jpeg  \n",
            "  inflating: MyDataset/Train/Normal/IM-0684-0001.jpeg  \n",
            "  inflating: MyDataset/Train/Normal/IM-0686-0001.jpeg  \n",
            "  inflating: MyDataset/Train/Normal/IM-0693-0001.jpeg  \n",
            "  inflating: MyDataset/Train/Normal/IM-0710-0001.jpeg  \n",
            "  inflating: MyDataset/Train/Normal/IM-0711-0001.jpeg  \n",
            "  inflating: MyDataset/Train/Normal/IM-0715-0001.jpeg  \n",
            "  inflating: MyDataset/Train/Normal/IM-0717-0001.jpeg  \n",
            "  inflating: MyDataset/Train/Normal/IM-0727-0001.jpeg  \n",
            "  inflating: MyDataset/Train/Normal/IM-0729-0001.jpeg  \n",
            "  inflating: MyDataset/Train/Normal/IM-0740-0001.jpeg  \n",
            "  inflating: MyDataset/Train/Normal/IM-0748-0001.jpeg  \n",
            "  inflating: MyDataset/Train/Normal/IM-0754-0001.jpeg  \n",
            "  inflating: MyDataset/Train/Normal/NORMAL2-IM-0388-0001.jpeg  \n",
            "  inflating: MyDataset/Train/Normal/NORMAL2-IM-0391-0001.jpeg  \n",
            "  inflating: MyDataset/Train/Normal/NORMAL2-IM-0397-0001.jpeg  \n",
            "  inflating: MyDataset/Train/Normal/NORMAL2-IM-0399-0001.jpeg  \n",
            "  inflating: MyDataset/Train/Normal/NORMAL2-IM-0408-0001.jpeg  \n",
            "  inflating: MyDataset/Train/Normal/NORMAL2-IM-0416-0001.jpeg  \n",
            "  inflating: MyDataset/Train/Normal/NORMAL2-IM-0417-0001.jpeg  \n",
            "  inflating: MyDataset/Train/Normal/NORMAL2-IM-0418-0001.jpeg  \n",
            "  inflating: MyDataset/Train/Normal/NORMAL2-IM-0437-0001.jpeg  \n",
            "  inflating: MyDataset/Train/Normal/NORMAL2-IM-0443-0001.jpeg  \n",
            "  inflating: MyDataset/Train/Normal/NORMAL2-IM-0445-0001.jpeg  \n",
            "  inflating: MyDataset/Train/Normal/NORMAL2-IM-0460-0001.jpeg  \n",
            "  inflating: MyDataset/Train/Normal/NORMAL2-IM-0462-0001.jpeg  \n",
            "  inflating: MyDataset/Train/Normal/NORMAL2-IM-0472-0001.jpeg  \n",
            "  inflating: MyDataset/Train/Normal/NORMAL2-IM-0488-0001.jpeg  \n",
            "  inflating: MyDataset/Train/Normal/NORMAL2-IM-0496-0001.jpeg  \n",
            "  inflating: MyDataset/Train/Normal/NORMAL2-IM-0502-0001.jpeg  \n",
            "  inflating: MyDataset/Train/Normal/NORMAL2-IM-0507-0001.jpeg  \n",
            "  inflating: MyDataset/Train/Normal/NORMAL2-IM-0512-0001.jpeg  \n",
            "  inflating: MyDataset/Train/Normal/NORMAL2-IM-0520-0001.jpeg  \n",
            "  inflating: MyDataset/Train/Normal/NORMAL2-IM-0526-0001.jpeg  \n",
            "  inflating: MyDataset/Train/Normal/NORMAL2-IM-0539-0001.jpeg  \n",
            "  inflating: MyDataset/Train/Normal/NORMAL2-IM-0552-0001.jpeg  \n",
            "  inflating: MyDataset/Train/Normal/NORMAL2-IM-0555-0001-0001.jpeg  \n",
            "  inflating: MyDataset/Train/Normal/NORMAL2-IM-0559-0001.jpeg  \n",
            "  inflating: MyDataset/Train/Normal/NORMAL2-IM-0569-0001.jpeg  \n",
            "  inflating: MyDataset/Train/Normal/NORMAL2-IM-0579-0001.jpeg  \n",
            "  inflating: MyDataset/Train/Normal/NORMAL2-IM-0580-0001.jpeg  \n",
            "  inflating: MyDataset/Train/Normal/NORMAL2-IM-0587-0001-0001.jpeg  \n",
            "  inflating: MyDataset/Train/Normal/NORMAL2-IM-0588-0001.jpeg  \n",
            "  inflating: MyDataset/Train/Normal/NORMAL2-IM-0601-0001.jpeg  \n",
            "  inflating: MyDataset/Train/Normal/NORMAL2-IM-0602-0001.jpeg  \n",
            "  inflating: MyDataset/Train/Normal/NORMAL2-IM-0611-0001.jpeg  \n",
            "  inflating: MyDataset/Train/Normal/NORMAL2-IM-0619-0001.jpeg  \n",
            "  inflating: MyDataset/Train/Normal/NORMAL2-IM-0622-0001.jpeg  \n",
            "  inflating: MyDataset/Train/Normal/NORMAL2-IM-0626-0001.jpeg  \n",
            "  inflating: MyDataset/Train/Normal/NORMAL2-IM-0659-0001.jpeg  \n",
            "  inflating: MyDataset/Train/Normal/NORMAL2-IM-0665-0001.jpeg  \n",
            "  inflating: MyDataset/Train/Normal/NORMAL2-IM-0666-0001.jpeg  \n",
            "  inflating: MyDataset/Train/Normal/NORMAL2-IM-0678-0001.jpeg  \n",
            "  inflating: MyDataset/Train/Normal/NORMAL2-IM-0718-0001.jpeg  \n",
            "  inflating: MyDataset/Train/Normal/NORMAL2-IM-0727-0001.jpeg  \n",
            "  inflating: MyDataset/Train/Normal/NORMAL2-IM-0771-0001.jpeg  \n",
            "  inflating: MyDataset/Train/Normal/NORMAL2-IM-0793-0001.jpeg  \n",
            "  inflating: MyDataset/Train/Normal/NORMAL2-IM-0810-0001.jpeg  \n",
            "  inflating: MyDataset/Train/Normal/NORMAL2-IM-0815-0001.jpeg  \n",
            "  inflating: MyDataset/Train/Normal/NORMAL2-IM-0826-0001.jpeg  \n",
            "  inflating: MyDataset/Train/Normal/NORMAL2-IM-0832-0001-0001.jpeg  \n",
            "  inflating: MyDataset/Train/Normal/NORMAL2-IM-0841-0001.jpeg  \n",
            "  inflating: MyDataset/Train/Normal/NORMAL2-IM-0868-0001.jpeg  \n",
            "  inflating: MyDataset/Train/Normal/NORMAL2-IM-0880-0001.jpeg  \n",
            "  inflating: MyDataset/Train/Normal/NORMAL2-IM-0885-0001.jpeg  \n",
            "  inflating: MyDataset/Train/Normal/NORMAL2-IM-0911-0001.jpeg  \n",
            "  inflating: MyDataset/Train/Normal/NORMAL2-IM-0933-0001.jpeg  \n",
            "  inflating: MyDataset/Train/Normal/NORMAL2-IM-0936-0001.jpeg  \n",
            "  inflating: MyDataset/Train/Normal/NORMAL2-IM-0937-0001.jpeg  \n",
            "  inflating: MyDataset/Train/Normal/NORMAL2-IM-0948-0001.jpeg  \n",
            "  inflating: MyDataset/Train/Normal/NORMAL2-IM-0949-0001.jpeg  \n",
            "  inflating: MyDataset/Train/Normal/NORMAL2-IM-0962-0001.jpeg  \n",
            "  inflating: MyDataset/Train/Normal/NORMAL2-IM-0967-0001.jpeg  \n",
            "  inflating: MyDataset/Train/Normal/NORMAL2-IM-0969-0001.jpeg  \n",
            "  inflating: MyDataset/Train/Normal/NORMAL2-IM-0971-0001-0002.jpeg  \n",
            "  inflating: MyDataset/Train/Normal/NORMAL2-IM-0974-0001.jpeg  \n",
            "  inflating: MyDataset/Train/Normal/NORMAL2-IM-0992-0001.jpeg  \n",
            "  inflating: MyDataset/Train/Normal/NORMAL2-IM-0993-0001.jpeg  \n",
            "  inflating: MyDataset/Train/Normal/NORMAL2-IM-0995-0001-0002.jpeg  \n",
            "  inflating: MyDataset/Train/Normal/NORMAL2-IM-0997-0001.jpeg  \n",
            "  inflating: MyDataset/Train/Normal/NORMAL2-IM-1004-0001.jpeg  \n",
            "  inflating: MyDataset/Train/Normal/NORMAL2-IM-1005-0001.jpeg  \n",
            "  inflating: MyDataset/Train/Normal/NORMAL2-IM-1011-0001.jpeg  \n",
            "  inflating: MyDataset/Train/Normal/NORMAL2-IM-1022-0001.jpeg  \n",
            "   creating: MyDataset/Val/\n",
            "   creating: MyDataset/Val/Covid/\n",
            "  inflating: MyDataset/Val/Covid/extubation-1.jpg  \n",
            "  inflating: MyDataset/Val/Covid/extubation-13.jpg  \n",
            "  inflating: MyDataset/Val/Covid/extubation-4.jpg  \n",
            "  inflating: MyDataset/Val/Covid/extubation-8.jpg  \n",
            "  inflating: MyDataset/Val/Covid/F4341CE7-73C9-45C6-99C8-8567A5484B63 - Copy.jpeg  \n",
            "  inflating: MyDataset/Val/Covid/F4341CE7-73C9-45C6-99C8-8567A5484B63.jpeg  \n",
            "  inflating: MyDataset/Val/Covid/f64132c8.jpg  \n",
            "  inflating: MyDataset/Val/Covid/f6575117.jpg  \n",
            "  inflating: MyDataset/Val/Covid/f6d980a0.jpg  \n",
            "  inflating: MyDataset/Val/Covid/f8335316.jpg  \n",
            "  inflating: MyDataset/Val/Covid/FE9F9A5D-2830-46F9-851B-1FF4534959BE.jpeg  \n",
            "  inflating: MyDataset/Val/Covid/fff49165-b22d-4bb4-b9d1-d5d62c52436c.annot.original.png  \n",
            "  inflating: MyDataset/Val/Covid/figure1-5e71be566aa8714a04de3386-98-left.jpeg  \n",
            "  inflating: MyDataset/Val/Covid/figure1-5e75d0940b71e1b702629659-98-right.jpeg  \n",
            "  inflating: MyDataset/Val/Covid/gr1_lrg-a.jpg  \n",
            "  inflating: MyDataset/Val/Covid/gr1_lrg-b.jpg  \n",
            "  inflating: MyDataset/Val/Covid/kjr-21-e25-g001-l-a.jpg  \n",
            "  inflating: MyDataset/Val/Covid/lancet-case2a.jpg  \n",
            "  inflating: MyDataset/Val/Covid/lancet-case2b.jpg  \n",
            "  inflating: MyDataset/Val/Covid/nCoV-radiol.2020200269.fig1-day7.jpeg  \n",
            "  inflating: MyDataset/Val/Covid/nejmc2001573_f1a.jpeg  \n",
            "  inflating: MyDataset/Val/Covid/nejmc2001573_f1b.jpeg  \n",
            "  inflating: MyDataset/Val/Covid/nejmoa2001191_f1-PA.jpeg  \n",
            "  inflating: MyDataset/Val/Covid/nejmoa2001191_f3-PA.jpeg  \n",
            "  inflating: MyDataset/Val/Covid/nejmoa2001191_f4.jpeg  \n",
            "  inflating: MyDataset/Val/Covid/nejmoa2001191_f5-PA.jpeg  \n",
            "  inflating: MyDataset/Val/Covid/paving.jpg  \n",
            "  inflating: MyDataset/Val/Covid/radiol.2020200274.fig3d.png  \n",
            "  inflating: MyDataset/Val/Covid/radiol.2020200490.fig3.jpeg  \n",
            "  inflating: MyDataset/Val/Covid/ryct.2020003.fig2-a.png  \n",
            "  inflating: MyDataset/Val/Covid/ryct.2020003.fig2-b.png  \n",
            "  inflating: MyDataset/Val/Covid/ryct.2020003.fig2-c.png  \n",
            "  inflating: MyDataset/Val/Covid/ryct.2020200028.fig1a.jpeg  \n",
            "  inflating: MyDataset/Val/Covid/ryct.2020200034.fig2.jpeg  \n",
            "  inflating: MyDataset/Val/Covid/ryct.2020200034.fig5-day0.jpeg  \n",
            "  inflating: MyDataset/Val/Covid/ryct.2020200034.fig5-day4.jpeg  \n",
            "  inflating: MyDataset/Val/Covid/ryct.2020200034.fig5-day7.jpeg  \n",
            "  inflating: MyDataset/Val/Covid/thnov10p5641g006-c.png  \n",
            "  inflating: MyDataset/Val/Covid/tpmd200203f2-b.png  \n",
            "  inflating: MyDataset/Val/Covid/tpmd200203f2-c.png  \n",
            "  inflating: MyDataset/Val/Covid/yxppt-2020-02-19_00-51-27_287214-day8.jpg  \n",
            "   creating: MyDataset/Val/Normal/\n",
            "  inflating: MyDataset/Val/Normal/NORMAL2-IM-1023-0001.jpeg  \n",
            "  inflating: MyDataset/Val/Normal/NORMAL2-IM-1024-0001.jpeg  \n",
            "  inflating: MyDataset/Val/Normal/NORMAL2-IM-1030-0001.jpeg  \n",
            "  inflating: MyDataset/Val/Normal/NORMAL2-IM-1035-0001.jpeg  \n",
            "  inflating: MyDataset/Val/Normal/NORMAL2-IM-1045-0001.jpeg  \n",
            "  inflating: MyDataset/Val/Normal/NORMAL2-IM-1050-0001.jpeg  \n",
            "  inflating: MyDataset/Val/Normal/NORMAL2-IM-1056-0001.jpeg  \n",
            "  inflating: MyDataset/Val/Normal/NORMAL2-IM-1067-0001.jpeg  \n",
            "  inflating: MyDataset/Val/Normal/NORMAL2-IM-1094-0001.jpeg  \n",
            "  inflating: MyDataset/Val/Normal/NORMAL2-IM-1096-0001-0001.jpeg  \n",
            "  inflating: MyDataset/Val/Normal/NORMAL2-IM-1118-0001.jpeg  \n",
            "  inflating: MyDataset/Val/Normal/NORMAL2-IM-1126-0001.jpeg  \n",
            "  inflating: MyDataset/Val/Normal/NORMAL2-IM-1136-0001.jpeg  \n",
            "  inflating: MyDataset/Val/Normal/NORMAL2-IM-1138-0001.jpeg  \n",
            "  inflating: MyDataset/Val/Normal/NORMAL2-IM-1149-0001.jpeg  \n",
            "  inflating: MyDataset/Val/Normal/NORMAL2-IM-1152-0001.jpeg  \n",
            "  inflating: MyDataset/Val/Normal/NORMAL2-IM-1153-0001.jpeg  \n",
            "  inflating: MyDataset/Val/Normal/NORMAL2-IM-1154-0001-0002.jpeg  \n",
            "  inflating: MyDataset/Val/Normal/NORMAL2-IM-1167-0001.jpeg  \n",
            "  inflating: MyDataset/Val/Normal/NORMAL2-IM-1189-0001.jpeg  \n",
            "  inflating: MyDataset/Val/Normal/NORMAL2-IM-1228-0001.jpeg  \n",
            "  inflating: MyDataset/Val/Normal/NORMAL2-IM-1232-0001.jpeg  \n",
            "  inflating: MyDataset/Val/Normal/NORMAL2-IM-1237-0001.jpeg  \n",
            "  inflating: MyDataset/Val/Normal/NORMAL2-IM-1245-0001.jpeg  \n",
            "  inflating: MyDataset/Val/Normal/NORMAL2-IM-1247-0001.jpeg  \n",
            "  inflating: MyDataset/Val/Normal/NORMAL2-IM-1257-0001.jpeg  \n",
            "  inflating: MyDataset/Val/Normal/NORMAL2-IM-1258-0001.jpeg  \n",
            "  inflating: MyDataset/Val/Normal/NORMAL2-IM-1286-0001.jpeg  \n",
            "  inflating: MyDataset/Val/Normal/NORMAL2-IM-1314-0001.jpeg  \n",
            "  inflating: MyDataset/Val/Normal/NORMAL2-IM-1316-0001.jpeg  \n",
            "  inflating: MyDataset/Val/Normal/NORMAL2-IM-1318-0001.jpeg  \n",
            "  inflating: MyDataset/Val/Normal/NORMAL2-IM-1319-0001.jpeg  \n",
            "  inflating: MyDataset/Val/Normal/NORMAL2-IM-1326-0001.jpeg  \n",
            "  inflating: MyDataset/Val/Normal/NORMAL2-IM-1329-0001.jpeg  \n",
            "  inflating: MyDataset/Val/Normal/NORMAL2-IM-1330-0001.jpeg  \n",
            "  inflating: MyDataset/Val/Normal/NORMAL2-IM-1332-0001.jpeg  \n",
            "  inflating: MyDataset/Val/Normal/NORMAL2-IM-1333-0001.jpeg  \n",
            "  inflating: MyDataset/Val/Normal/NORMAL2-IM-1350-0001.jpeg  \n",
            "  inflating: MyDataset/Val/Normal/NORMAL2-IM-1376-0001.jpeg  \n",
            "  inflating: MyDataset/Val/Normal/NORMAL2-IM-1401-0001.jpeg  \n"
          ],
          "name": "stdout"
        }
      ]
    },
    {
      "cell_type": "code",
      "metadata": {
        "id": "kYmtQB2RuXaz"
      },
      "source": [
        "TRAIN_PATH = \"MyDataset/Train\"\n",
        "VAL_PATH = \"MyDataset/Val\"\n"
      ],
      "execution_count": 4,
      "outputs": []
    },
    {
      "cell_type": "code",
      "metadata": {
        "id": "fj4Ki3_fumix"
      },
      "source": [
        "import numpy as np\n",
        "import matplotlib.pyplot as plt\n",
        "import keras\n",
        "from keras.layers import *\n",
        "from keras.models import *\n",
        "from keras.preprocessing import image "
      ],
      "execution_count": 5,
      "outputs": []
    },
    {
      "cell_type": "code",
      "metadata": {
        "id": "JmecgR0vvGJx"
      },
      "source": [
        "#CNN based model in keras\n",
        "\n",
        "model = Sequential()\n",
        "model.add(Conv2D(32,kernel_size=(3,3),activation='relu',input_shape=(224,224,3)))\n",
        "model.add(Conv2D(64,(3,3),activation='relu'))\n",
        "model.add(MaxPooling2D(pool_size=(2,2)))\n",
        "model.add(Dropout(0.25))\n",
        "\n",
        "model.add(Conv2D(64,(3,3),activation='relu'))\n",
        "model.add(MaxPooling2D(pool_size=(2,2)))\n",
        "model.add(Dropout(0.25))\n",
        "\n",
        "model.add(Conv2D(128,(3,3),activation='relu'))\n",
        "model.add(MaxPooling2D(pool_size=(2,2)))\n",
        "model.add(Dropout(0.25))\n",
        "\n",
        "model.add(Flatten())\n",
        "model.add(Dense(64,activation='relu'))\n",
        "model.add(Dropout(0.5))\n",
        "model.add(Dense(1,activation='sigmoid'))\n",
        "\n",
        "model.compile(loss=keras.losses.binary_crossentropy,optimizer = 'adam', metrics= ['accuracy'])\n",
        "\n",
        "\n",
        "\n",
        "\n"
      ],
      "execution_count": 6,
      "outputs": []
    },
    {
      "cell_type": "code",
      "metadata": {
        "colab": {
          "base_uri": "https://localhost:8080/"
        },
        "id": "WIrb8x-zxBPa",
        "outputId": "d53338a2-6e3f-40bc-d94d-33ac2894d644"
      },
      "source": [
        "model.summary()"
      ],
      "execution_count": 7,
      "outputs": [
        {
          "output_type": "stream",
          "text": [
            "Model: \"sequential\"\n",
            "_________________________________________________________________\n",
            "Layer (type)                 Output Shape              Param #   \n",
            "=================================================================\n",
            "conv2d (Conv2D)              (None, 222, 222, 32)      896       \n",
            "_________________________________________________________________\n",
            "conv2d_1 (Conv2D)            (None, 220, 220, 64)      18496     \n",
            "_________________________________________________________________\n",
            "max_pooling2d (MaxPooling2D) (None, 110, 110, 64)      0         \n",
            "_________________________________________________________________\n",
            "dropout (Dropout)            (None, 110, 110, 64)      0         \n",
            "_________________________________________________________________\n",
            "conv2d_2 (Conv2D)            (None, 108, 108, 64)      36928     \n",
            "_________________________________________________________________\n",
            "max_pooling2d_1 (MaxPooling2 (None, 54, 54, 64)        0         \n",
            "_________________________________________________________________\n",
            "dropout_1 (Dropout)          (None, 54, 54, 64)        0         \n",
            "_________________________________________________________________\n",
            "conv2d_3 (Conv2D)            (None, 52, 52, 128)       73856     \n",
            "_________________________________________________________________\n",
            "max_pooling2d_2 (MaxPooling2 (None, 26, 26, 128)       0         \n",
            "_________________________________________________________________\n",
            "dropout_2 (Dropout)          (None, 26, 26, 128)       0         \n",
            "_________________________________________________________________\n",
            "flatten (Flatten)            (None, 86528)             0         \n",
            "_________________________________________________________________\n",
            "dense (Dense)                (None, 64)                5537856   \n",
            "_________________________________________________________________\n",
            "dropout_3 (Dropout)          (None, 64)                0         \n",
            "_________________________________________________________________\n",
            "dense_1 (Dense)              (None, 1)                 65        \n",
            "=================================================================\n",
            "Total params: 5,668,097\n",
            "Trainable params: 5,668,097\n",
            "Non-trainable params: 0\n",
            "_________________________________________________________________\n"
          ],
          "name": "stdout"
        }
      ]
    },
    {
      "cell_type": "code",
      "metadata": {
        "id": "AUn16_4txD4N"
      },
      "source": [
        "#Train from scratch\n",
        "\n",
        "train_datagen = image.ImageDataGenerator(\n",
        "    rescale = 1./255,\n",
        "    shear_range = 0.2,\n",
        "    zoom_range = 0.2,\n",
        "    horizontal_flip = True,\n",
        "\n",
        ")\n",
        "\n",
        "test_dataset = image.ImageDataGenerator(rescale=1./255)"
      ],
      "execution_count": 8,
      "outputs": []
    },
    {
      "cell_type": "code",
      "metadata": {
        "colab": {
          "base_uri": "https://localhost:8080/"
        },
        "id": "G48KGSQCxs6m",
        "outputId": "34df909f-1018-49a9-fe38-7337992e456e"
      },
      "source": [
        "train_generator = train_datagen.flow_from_directory(\n",
        "    \n",
        "    'MyDataset/Train',\n",
        "    target_size = (224,224),\n",
        "    batch_size = 32,\n",
        "    class_mode = 'binary'\n",
        ")"
      ],
      "execution_count": 9,
      "outputs": [
        {
          "output_type": "stream",
          "text": [
            "Found 312 images belonging to 2 classes.\n"
          ],
          "name": "stdout"
        }
      ]
    },
    {
      "cell_type": "code",
      "metadata": {
        "colab": {
          "base_uri": "https://localhost:8080/"
        },
        "id": "89aK9Up4yCpW",
        "outputId": "e40c8bb5-f0b3-45c3-b0ae-d94bec176f83"
      },
      "source": [
        "train_generator.class_indices"
      ],
      "execution_count": 11,
      "outputs": [
        {
          "output_type": "execute_result",
          "data": {
            "text/plain": [
              "{'Covid': 0, 'Normal': 1}"
            ]
          },
          "metadata": {
            "tags": []
          },
          "execution_count": 11
        }
      ]
    },
    {
      "cell_type": "code",
      "metadata": {
        "colab": {
          "base_uri": "https://localhost:8080/"
        },
        "id": "pnkpdnFPyPPJ",
        "outputId": "31b8ab6f-dbad-4d6a-b2b1-b5074b72f14f"
      },
      "source": [
        "validation_generator = test_dataset.flow_from_directory(\n",
        "    \n",
        "    'MyDataset/Val',\n",
        "    target_size = (224,224),\n",
        "    batch_size = 32,\n",
        "    class_mode = 'binary'\n",
        ")"
      ],
      "execution_count": 12,
      "outputs": [
        {
          "output_type": "stream",
          "text": [
            "Found 81 images belonging to 2 classes.\n"
          ],
          "name": "stdout"
        }
      ]
    },
    {
      "cell_type": "code",
      "metadata": {
        "colab": {
          "base_uri": "https://localhost:8080/"
        },
        "id": "xnAl1skU3CXJ",
        "outputId": "5b273462-2358-4e46-a24a-8c0d466e254e"
      },
      "source": [
        "hist = model.fit_generator(\n",
        "    train_generator,\n",
        "    steps_per_epoch = 8,\n",
        "    epochs = 10,\n",
        "    validation_data = validation_generator,\n",
        "    validation_steps = 2\n",
        ")"
      ],
      "execution_count": 16,
      "outputs": [
        {
          "output_type": "stream",
          "text": [
            "/usr/local/lib/python3.7/dist-packages/keras/engine/training.py:1915: UserWarning: `Model.fit_generator` is deprecated and will be removed in a future version. Please use `Model.fit`, which supports generators.\n",
            "  warnings.warn('`Model.fit_generator` is deprecated and '\n"
          ],
          "name": "stderr"
        },
        {
          "output_type": "stream",
          "text": [
            "Epoch 1/10\n",
            "8/8 [==============================] - 83s 10s/step - loss: 0.3636 - accuracy: 0.8226 - val_loss: 0.2848 - val_accuracy: 0.9219\n",
            "Epoch 2/10\n",
            "8/8 [==============================] - 83s 10s/step - loss: 0.4235 - accuracy: 0.8555 - val_loss: 0.3203 - val_accuracy: 0.9375\n",
            "Epoch 3/10\n",
            "8/8 [==============================] - 81s 10s/step - loss: 0.4228 - accuracy: 0.8468 - val_loss: 0.3231 - val_accuracy: 0.9375\n",
            "Epoch 4/10\n",
            "8/8 [==============================] - 80s 10s/step - loss: 0.3738 - accuracy: 0.8911 - val_loss: 0.2753 - val_accuracy: 0.9688\n",
            "Epoch 5/10\n",
            "8/8 [==============================] - 80s 10s/step - loss: 0.2926 - accuracy: 0.8871 - val_loss: 0.2084 - val_accuracy: 0.9531\n",
            "Epoch 6/10\n",
            "8/8 [==============================] - 80s 10s/step - loss: 0.3532 - accuracy: 0.8629 - val_loss: 0.2636 - val_accuracy: 0.9375\n",
            "Epoch 7/10\n",
            "8/8 [==============================] - 80s 10s/step - loss: 0.3717 - accuracy: 0.8750 - val_loss: 0.2789 - val_accuracy: 0.9375\n",
            "Epoch 8/10\n",
            "8/8 [==============================] - 83s 10s/step - loss: 0.3253 - accuracy: 0.8750 - val_loss: 0.2551 - val_accuracy: 0.9062\n",
            "Epoch 9/10\n",
            "8/8 [==============================] - 83s 10s/step - loss: 0.3233 - accuracy: 0.8589 - val_loss: 0.2065 - val_accuracy: 0.9375\n",
            "Epoch 10/10\n",
            "8/8 [==============================] - 81s 10s/step - loss: 0.3538 - accuracy: 0.8629 - val_loss: 0.2265 - val_accuracy: 0.9688\n"
          ],
          "name": "stdout"
        }
      ]
    },
    {
      "cell_type": "code",
      "metadata": {
        "id": "_miEcLz53QcI"
      },
      "source": [
        "model.save(\"model_adv.h5\")"
      ],
      "execution_count": 17,
      "outputs": []
    },
    {
      "cell_type": "code",
      "metadata": {
        "colab": {
          "base_uri": "https://localhost:8080/"
        },
        "id": "PQsDHGBK68gY",
        "outputId": "1e552c54-6fb4-4dce-fddd-8f4f86460558"
      },
      "source": [
        "model.evaluate_generator(train_generator)"
      ],
      "execution_count": 18,
      "outputs": [
        {
          "output_type": "stream",
          "text": [
            "/usr/local/lib/python3.7/dist-packages/keras/engine/training.py:1948: UserWarning: `Model.evaluate_generator` is deprecated and will be removed in a future version. Please use `Model.evaluate`, which supports generators.\n",
            "  warnings.warn('`Model.evaluate_generator` is deprecated and '\n"
          ],
          "name": "stderr"
        },
        {
          "output_type": "execute_result",
          "data": {
            "text/plain": [
              "[0.24666976928710938, 0.9487179517745972]"
            ]
          },
          "metadata": {
            "tags": []
          },
          "execution_count": 18
        }
      ]
    },
    {
      "cell_type": "code",
      "metadata": {
        "colab": {
          "base_uri": "https://localhost:8080/"
        },
        "id": "GmSNO7ND7BzI",
        "outputId": "9524edaf-54be-40d6-a7d6-2570f3c0a2d2"
      },
      "source": [
        "model.evaluate_generator(validation_generator)"
      ],
      "execution_count": 19,
      "outputs": [
        {
          "output_type": "stream",
          "text": [
            "/usr/local/lib/python3.7/dist-packages/keras/engine/training.py:1948: UserWarning: `Model.evaluate_generator` is deprecated and will be removed in a future version. Please use `Model.evaluate`, which supports generators.\n",
            "  warnings.warn('`Model.evaluate_generator` is deprecated and '\n"
          ],
          "name": "stderr"
        },
        {
          "output_type": "execute_result",
          "data": {
            "text/plain": [
              "[0.2585659325122833, 0.9506173133850098]"
            ]
          },
          "metadata": {
            "tags": []
          },
          "execution_count": 19
        }
      ]
    },
    {
      "cell_type": "code",
      "metadata": {
        "id": "5rhmNCWJ7JVw"
      },
      "source": [
        "#Testing images"
      ],
      "execution_count": 20,
      "outputs": []
    },
    {
      "cell_type": "code",
      "metadata": {
        "id": "t6zToNjb7beX"
      },
      "source": [
        "model = load_model('model_adv.h5')"
      ],
      "execution_count": 21,
      "outputs": []
    },
    {
      "cell_type": "code",
      "metadata": {
        "id": "QoTAClVC7esa"
      },
      "source": [
        "import os"
      ],
      "execution_count": 22,
      "outputs": []
    },
    {
      "cell_type": "code",
      "metadata": {
        "colab": {
          "base_uri": "https://localhost:8080/"
        },
        "id": "p2uKFbnH7gG6",
        "outputId": "7f7302e3-b036-4abb-ff10-50f03c5dbac9"
      },
      "source": [
        "train_generator.class_indices"
      ],
      "execution_count": 23,
      "outputs": [
        {
          "output_type": "execute_result",
          "data": {
            "text/plain": [
              "{'Covid': 0, 'Normal': 1}"
            ]
          },
          "metadata": {
            "tags": []
          },
          "execution_count": 23
        }
      ]
    },
    {
      "cell_type": "code",
      "metadata": {
        "id": "AELSz-lF7jN4"
      },
      "source": [
        "y_actual = []\n",
        "y_test = []"
      ],
      "execution_count": 38,
      "outputs": []
    },
    {
      "cell_type": "code",
      "metadata": {
        "colab": {
          "base_uri": "https://localhost:8080/"
        },
        "id": "vj0viiek7nAx",
        "outputId": "1e1d347c-791d-4e8e-ca57-74175a3ba65d"
      },
      "source": [
        "for i in os.listdir(\"./MyDataset/Val/Normal/\"):\n",
        "  img = image.load_img(\"./MyDataset/Val/Normal/\"+i, target_size=(224,224))\n",
        "  img = image.img_to_array(img)\n",
        "  img = np.expand_dims(img, axis =0)\n",
        "  p = model.predict_classes(img)\n",
        "  y_test.append(p[0,0])\n",
        "  y_actual.append(1)\n"
      ],
      "execution_count": 39,
      "outputs": [
        {
          "output_type": "stream",
          "text": [
            "/usr/local/lib/python3.7/dist-packages/keras/engine/sequential.py:450: UserWarning: `model.predict_classes()` is deprecated and will be removed after 2021-01-01. Please use instead:* `np.argmax(model.predict(x), axis=-1)`,   if your model does multi-class classification   (e.g. if it uses a `softmax` last-layer activation).* `(model.predict(x) > 0.5).astype(\"int32\")`,   if your model does binary classification   (e.g. if it uses a `sigmoid` last-layer activation).\n",
            "  warnings.warn('`model.predict_classes()` is deprecated and '\n"
          ],
          "name": "stderr"
        }
      ]
    },
    {
      "cell_type": "code",
      "metadata": {
        "colab": {
          "base_uri": "https://localhost:8080/"
        },
        "id": "Vaq4qs8L8K5n",
        "outputId": "5fad0c44-ab08-44bf-f800-57827521b64a"
      },
      "source": [
        "for i in os.listdir(\"./MyDataset/Val/Covid/\"):\n",
        "  img = image.load_img(\"./MyDataset/Val/Covid/\"+i, target_size=(224,224))\n",
        "  img = image.img_to_array(img)\n",
        "  img = np.expand_dims(img, axis =0)\n",
        "  p = model.predict_classes(img)\n",
        "  y_test.append(p[0,0])\n",
        "  y_actual.append(0)\n"
      ],
      "execution_count": 40,
      "outputs": [
        {
          "output_type": "stream",
          "text": [
            "/usr/local/lib/python3.7/dist-packages/keras/engine/sequential.py:450: UserWarning: `model.predict_classes()` is deprecated and will be removed after 2021-01-01. Please use instead:* `np.argmax(model.predict(x), axis=-1)`,   if your model does multi-class classification   (e.g. if it uses a `softmax` last-layer activation).* `(model.predict(x) > 0.5).astype(\"int32\")`,   if your model does binary classification   (e.g. if it uses a `sigmoid` last-layer activation).\n",
            "  warnings.warn('`model.predict_classes()` is deprecated and '\n"
          ],
          "name": "stderr"
        }
      ]
    },
    {
      "cell_type": "code",
      "metadata": {
        "id": "qL-BxJGV8mm5"
      },
      "source": [
        "y_actual = np.array(y_actual)\n",
        "y_test = np.array(y_test)"
      ],
      "execution_count": 41,
      "outputs": []
    },
    {
      "cell_type": "code",
      "metadata": {
        "id": "4ncsqbjr8uRM"
      },
      "source": [
        "from sklearn.metrics import confusion_matrix"
      ],
      "execution_count": 42,
      "outputs": []
    },
    {
      "cell_type": "code",
      "metadata": {
        "id": "MyeK_IKa8xi_"
      },
      "source": [
        "cm = confusion_matrix(y_actual, y_test)\n"
      ],
      "execution_count": 43,
      "outputs": []
    },
    {
      "cell_type": "code",
      "metadata": {
        "id": "zavAG23r8116"
      },
      "source": [
        "import seaborn as sns"
      ],
      "execution_count": 44,
      "outputs": []
    },
    {
      "cell_type": "code",
      "metadata": {
        "colab": {
          "base_uri": "https://localhost:8080/",
          "height": 282
        },
        "id": "DbxlS6SS83eD",
        "outputId": "113c0f61-358a-4d7d-ba79-033ccfb51b0a"
      },
      "source": [
        "sns.heatmap(cm,cmap=\"plasma\",annot=True)"
      ],
      "execution_count": 45,
      "outputs": [
        {
          "output_type": "execute_result",
          "data": {
            "text/plain": [
              "<matplotlib.axes._subplots.AxesSubplot at 0x7f7239186f10>"
            ]
          },
          "metadata": {
            "tags": []
          },
          "execution_count": 45
        },
        {
          "output_type": "display_data",
          "data": {
            "image/png": "[encoded data removed]",
            "text/plain": [
              "<Figure size 432x288 with 2 Axes>"
            ]
          },
          "metadata": {
            "tags": [],
            "needs_background": "light"
          }
        }
      ]
    },
    {
      "cell_type": "code",
      "metadata": {
        "id": "7WTMaJIl88Bs"
      },
      "source": [
        " "
      ],
      "execution_count": null,
      "outputs": []
    }
  ]
}